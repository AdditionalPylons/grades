{
 "cells": [
  {
   "cell_type": "markdown",
   "metadata": {},
   "source": [
    "# In this assignment, you will be loading some CSV data, doing some data exploration and data cleaning,\n",
    "# and generating some useful output. First you will need to load data from the CSVs into a usable state.\n",
    "# You will find all the files referenced here in the /data project subdirectory."
   ]
  },
  {
   "cell_type": "code",
   "execution_count": 16,
   "metadata": {},
   "outputs": [
    {
     "name": "stdout",
     "output_type": "stream",
     "text": [
      "['FIRST', 'LAST', 'SUBJECT', 'ASSIGNMENT_NO', 'ASSIGNMENT_DESC', 'GRADE', 'MAKEUP', 'DATE_DUE', 'DATE_SUBMIT']\n",
      "['Bill', 'Edwards', 'chemistry', '1', 'ATMC NMBRS', '1', 'False', '2023-01-01', '2023-01-15']\n",
      "['Bill', 'Edwards', 'chemistry', '1', 'ATMC NMBRS', '13', 'True', '2023-01-01', '2023-01-16']\n",
      "['David', 'Chen', 'chemistry', '1', 'ATMC NMBRS', '68', 'False', '2022-01-01', '2022-01-01']\n",
      "['David', 'Chen', 'chemistry', '1', 'ATMC NMBRS', '62', 'True', '2022-01-01', '2022-01-15']\n",
      "['William', 'Chen', 'chemistry', '1', 'ATMC NMBRS', '65', 'False', '2022-01-01', '2022-01-01']\n",
      "['William', 'Chen', 'chemistry', '1', 'ATMC NMBRS', '62', 'True', '2022-01-01', '2022-01-15']\n",
      "['Rafferty', 'Russell', 'chemistry', '1', 'ATMC NMBRS', '98', 'False', '2022-01-01', '2022-01-01']\n",
      "['Rafferty', 'Russell', 'chemistry', '1', 'ATMC NMBRS', '90', 'True', '2022-01-01', '2022-01-15']\n",
      "['Jason', 'Ramirez', 'chemistry', '1', 'ATMC NMBRS', '43', 'False', '2023-01-01', '2023-01-01']\n",
      "['Jason', 'Ramirez', 'chemistry', '1', 'ATMC NMBRS', '13', 'True', '2023-01-01', '2023-01-15']\n",
      "['Fred', 'Fernando', 'chemistry', '1', 'ATMC NMBRS', '97', 'False', '2022-01-01', '2022-01-01']\n",
      "['Fred', 'Fernando', 'chemistry', '1', 'ATMC NMBRS', '91', 'True', '2022-01-01', '2022-01-15']\n",
      "['杨作亮', 'AlexYang', 'chemistry', '1', 'ATMC NMBRS', '58', 'False', '2023-01-01', '2023-01-01']\n",
      "['杨作亮', 'AlexYang', 'chemistry', '1', 'ATMC NMBRS', '0', 'True', '2023-01-01', '2023-01-02']\n",
      "['Bill', 'Edwards', 'chemistry', '2', 'PLYMER & ALDEHYDE', '34', 'False', '2023-01-01', '2023-01-01']\n",
      "['David', 'Chen', 'chemistry', '2', 'PLYMER & ALDEHYDE', '64', 'False', '2023-01-01', '2023-01-01']\n",
      "['William', 'Chen', 'chemistry', '2', 'PLYMER & ALDEHYDE', '67', 'False', '2022-01-01', '2022-01-15']\n",
      "['Rafferty', 'Russell', 'chemistry', '2', 'PLYMER & ALDEHYDE', '98', 'False', '2022-01-01', '2022-01-15']\n",
      "['Jason', 'Ramirez', 'chemistry', '2', 'PLYMER & ALDEHYDE', '12', 'False', '2023-01-01', '2023-01-15']\n",
      "['Fred', 'Fernando', 'chemistry', '2', 'PLYMER & ALDEHYDE', '97', 'False', '2022-01-01', '2022-01-01']\n",
      "['杨作亮', 'AlexYang', 'chemistry', '2', 'PLYMER & ALDEHYDE', '42', 'False', '2022-01-01', '2022-01-01']\n",
      "['Bill', 'Edwards', 'chemistry', '3', 'ELECTRON CONFIG', '13', 'False', '2023-01-01', '2023-01-01']\n",
      "['David', 'Chen', 'chemistry', '3', 'ELECTRON CONFIG', '68', 'False', '2022-01-01', '2022-01-15']\n",
      "['William', 'Chen', 'chemistry', '3', 'ELECTRON CONFIG', '64', 'False', '2023-01-01', '2023-01-01']\n",
      "['Rafferty', 'Russell', 'chemistry', '3', 'ELECTRON CONFIG', '93', 'False', '2023-01-01', '2023-01-15']\n",
      "['Jason', 'Ramirez', 'chemistry', '3', 'ELECTRON CONFIG', '29', 'False', '2022-01-01', '2022-01-15']\n",
      "['Fred', 'Fernando', 'chemistry', '3', 'ELECTRON CONFIG', '92', 'False', '2022-01-01', '2022-01-15']\n",
      "['杨作亮', 'AlexYang', 'chemistry', '3', 'ELECTRON CONFIG', '31', 'False', '2023-01-01', '2023-01-01']\n",
      "['FIRST', 'LAST', 'SUBJECT', 'ASSIGNMENT_NO', 'ASSIGNMENT_DESC', 'GRADE', 'MAKEUP', 'DATE_DUE', 'DATE_SUBMIT']\n",
      "['Bill', 'Edwards', 'math', '1', 'Plot your address on a coordinate plane', '80', 'False', '2023-01-01', '2023-01-01']\n",
      "['Bill', 'Edwards', 'math', '1', 'Plot your address on a coordinate plane', '87', 'True', '2023-01-01', '2023-01-02']\n",
      "['David', 'Chen', 'math', '1', 'Plot your address on a coordinate plane', '68', 'False', '2023-01-01', '2023-01-15']\n",
      "['David', 'Chen', 'math', '1', 'Plot your address on a coordinate plane', '-64', 'True', '2023-01-01', '2023-01-29']\n",
      "['William', 'Chen', 'math', '1', 'Plot your address on a coordinate plane', '96', 'False', '2023-01-01', '2023-01-15']\n",
      "['William', 'Chen', 'math', '1', 'Plot your address on a coordinate plane', '-92', 'True', '2023-01-01', '2023-01-29']\n",
      "['Rafferty', 'Russell', 'math', '1', 'Plot your address on a coordinate plane', '79', 'False', '2022-01-01', '2022-01-01']\n",
      "['Rafferty', 'Russell', 'math', '1', 'Plot your address on a coordinate plane', '-77', 'True', '2022-01-01', '2022-01-02']\n",
      "['Jason', 'Ramirez', 'math', '1', 'Plot your address on a coordinate plane', '78', 'False', '2022-01-01', '2022-01-01']\n",
      "['Jason', 'Ramirez', 'math', '1', 'Plot your address on a coordinate plane', '-75', 'True', '2022-01-01', '2022-01-02']\n",
      "['Fred', 'Fernando', 'math', '1', 'Plot your address on a coordinate plane', '64', 'False', '2023-01-01', '2023-01-15']\n",
      "['Fred', 'Fernando', 'math', '1', 'Plot your address on a coordinate plane', '68', 'True', '2023-01-01', '2023-01-29']\n",
      "['杨作亮', 'AlexYang', 'math', '1', 'Plot your address on a coordinate plane', '27', 'False', '2023-01-01', '2023-01-01']\n",
      "['杨作亮', 'AlexYang', 'math', '1', 'Plot your address on a coordinate plane', '30', 'True', '2023-01-01', '2023-01-02']\n",
      "['Bill', 'Edwards', 'math', '2', 'Normalize a data set of your choosing', '89', 'False', '2023-01-01', '2023-01-15']\n",
      "['David', 'Chen', 'math', '2', 'Normalize a data set of your choosing', '68', 'False', '2023-01-01', '2023-01-15']\n",
      "['William', 'Chen', 'math', '2', 'Normalize a data set of your choosing', '95', 'False', '2022-01-01', '2022-01-01']\n",
      "['Rafferty', 'Russell', 'math', '2', 'Normalize a data set of your choosing', '78', 'False', '2023-01-01', '2023-01-01']\n",
      "['Jason', 'Ramirez', 'math', '2', 'Normalize a data set of your choosing', '75', 'False', '2023-01-01', '2023-01-15']\n",
      "['Fred', 'Fernando', 'math', '2', 'Normalize a data set of your choosing', '61', 'False', '2022-01-01', '2022-01-01']\n",
      "['杨作亮', 'AlexYang', 'math', '2', 'Normalize a data set of your choosing', '49', 'False', '2023-01-01', '2023-01-01']\n",
      "['Bill', 'Edwards', 'math', '3', 'Calculate the area under a bell curve', '84', 'False', '2022-01-01', '2022-01-15']\n",
      "['David', 'Chen', 'math', '3', 'Calculate the area under a bell curve', '67', 'False', '2023-01-01', '2023-01-15']\n",
      "['William', 'Chen', 'math', '3', 'Calculate the area under a bell curve', '95', 'False', '2023-01-01', '2023-01-01']\n",
      "['Rafferty', 'Russell', 'math', '3', 'Calculate the area under a bell curve', '76', 'False', '2023-01-01', '2023-01-01']\n",
      "['Jason', 'Ramirez', 'math', '3', 'Calculate the area under a bell curve', '72', 'False', '2022-01-01', '2022-01-15']\n",
      "['Fred', 'Fernando', 'math', '3', 'Calculate the area under a bell curve', '64', 'False', '2022-01-01', '2022-01-15']\n",
      "['杨作亮', 'AlexYang', 'math', '3', 'Calculate the area under a bell curve', '17', 'False', '2022-01-01', '2022-01-15']\n",
      "['Fred', 'Fernando', 'math', '3', 'Calculate the area under a bell curve', '64', 'False', '2022-01-01', '2022-01-15']\n",
      "['Fred', 'Fernando', 'math', '3', 'Calculate the area under a bell curve', '64', 'False', '2022-01-01', '2022-01-15']\n",
      "['Fred', 'Fernando', 'math', '3', 'Calculate the area under a bell curve', '64', 'False', '2022-01-01', '2022-01-15']\n",
      "['Fred', 'Fernando', 'math', '3', 'Calculate the area under a bell curve', '64', 'False', '2022-01-01', '2022-01-15']\n"
     ]
    }
   ],
   "source": [
    "\"\"\"\n",
    "Problem 1a: Load chemistry.csv and math.csv from the data folder using the Python csv module.\n",
    "\"\"\"\n",
    "\n",
    "# Your code here\n",
    "import csv\n",
    "\n",
    "with open('data/chemistry.csv', 'r') as csv_file:\n",
    "        csv_reader = csv.reader(csv_file)\n",
    "\n",
    "        for line in csv_reader:\n",
    "            print(line)\n",
    "    \n",
    "with open('data/math.csv', 'r') as csv_file:\n",
    "        csv_reader = csv.reader(csv_file)\n",
    "\n",
    "        for line in csv_reader:\n",
    "            print(line)"
   ]
  },
  {
   "cell_type": "code",
   "execution_count": 85,
   "metadata": {},
   "outputs": [
    {
     "name": "stdout",
     "output_type": "stream",
     "text": [
      "['FIRST', 'LAST', 'SUBJECT', 'ASSIGNMENT_NO', 'ASSIGNMENT_DESC', 'GRADE', 'MAKEUP', 'DATE_DUE', 'DATE_SUBMIT']\n",
      "['Bill', 'Edwards', 'spanish', '1', '¡Hola! ¿Cómo se llama?', '87', 'False', '2023-01-01', '2023-01-15']\n",
      "['Bill', 'Edwards', 'spanish', '1', '¡Hola! ¿Cómo se llama?', '83', 'True', '2023-01-01', '2023-01-29']\n",
      "['David', 'Chen', 'spanish', '1', '¡Hola! ¿Cómo se llama?', '69', 'False', '2022-01-01', '2022-01-01']\n",
      "['David', 'Chen', 'spanish', '1', '¡Hola! ¿Cómo se llama?', '64', 'True', '2022-01-01', '2022-01-02']\n",
      "['William', 'Chen', 'spanish', '1', '¡Hola! ¿Cómo se llama?', '80', 'False', '2023-01-01', '2023-01-15']\n",
      "['William', 'Chen', 'spanish', '1', '¡Hola! ¿Cómo se llama?', '88', 'True', '2023-01-01', '2023-01-29']\n",
      "['William', 'Chen', 'spanish', '1', '¡Hola! ¿Cómo se llama?', '', '', '', '']\n",
      "['Rafferty', 'Russell', 'spanish', '1', '¡Hola! ¿Cómo se llama?', '79', 'False', '2023-01-01', '2023-01-15']\n",
      "['Rafferty', 'Russell', 'spanish', '1', '¡Hola! ¿Cómo se llama?', '72', 'True', '2023-01-01', '2023-01-16']\n",
      "['Jason', 'Ramirez', 'spanish', '1', '¡Hola! ¿Cómo se llama?', '12', 'False', '2023-01-01', '2023-01-01']\n",
      "['Jason', 'Ramirez', 'spanish', '1', '¡Hola! ¿Cómo se llama?', '31', 'True', '2023-01-01', '2023-01-15']\n",
      "['Fred', 'Fernando', 'spanish', '1', '¡Hola! ¿Cómo se llama?', '97', 'False', '2022-01-01', '2022-01-15']\n",
      "['Fred', 'Fernando', 'spanish', '1', '¡Hola! ¿Cómo se llama?', '98', 'True', '2022-01-01', '2022-01-29']\n",
      "['杨作亮', 'AlexYang', 'spanish', '1', '¡Hola! ¿Cómo se llama?', '77', 'False', '2022-01-01', '2022-01-15']\n",
      "['杨作亮', 'AlexYang', 'spanish', '1', '¡Hola! ¿Cómo se llama?', '70', 'True', '2022-01-01', '2022-01-16']\n",
      "['Bill', 'Edwards', 'spanglish', '2', '¿A dónde vamos hoy?', '87', 'False', '2022-01-01', '2022-01-01']\n",
      "['David', 'Chen', 'spanish', '2', '¿A dónde vamos hoy?', '68', 'False', '2023-01-01', '2023-01-15']\n",
      "['William', 'Chen', 'spanish', '2', '¿A dónde vamos hoy?', '84', 'False', '2022-01-01', '2022-01-01']\n",
      "['Rafferty', 'Russell', 'spanish', '2', '¿A dónde vamos hoy?', '76', 'False', '2022-01-01', '2022-01-01']\n",
      "['Jason', 'Ramirez', 'spanish', '2', '¿A dónde vamos hoy?', '29', 'False', '2022-01-01', '2022-01-15']\n",
      "['Fred', 'Fernando', 'spanish', '2', '¿A dónde vamos hoy?', '95', 'False', '2023-01-01', '2023-01-01']\n",
      "['杨作亮', 'AlexYang', 'spanish', '2', '¿A dónde vamos hoy?', '78', 'False', '2022-01-01', '2022-01-15']\n",
      "['Bill', 'Edwards', 'spanish', '3', 'Describe a tu familia', '83', 'False', '2023-01-01', '2023-01-01']\n",
      "['David', 'Chen', 'spanish', '3', 'Describe a tu familia', '64', 'False', '2022-01-01', '2022-01-01']\n",
      "['William', 'Chen', 'spanish', '3', 'Describe a tu familia', '81', 'False', '2022-01-01', '2022-01-15']\n",
      "['Rafferty', 'Russell', 'spanish', '3', 'Describe a tu familia', '70', 'False', '2022-01-01', '2022-01-01']\n",
      "['Jason', 'Ramirez', 'spanish', '3', 'Describe a tu familia', '55', 'False', '2023-01-01', '2023-01-01']\n",
      "['Fred', 'Fernando', 'spanish', '3', 'Describe a tu familia', '92', 'False', '2022-01-01', '2022-01-15']\n",
      "['杨作亮', 'AlexYang', 'spanish', '3', 'Describe a tu familia', '76', 'False', '2022-01-01', '2022-01-15']\n",
      "['Bill', 'Edwards', 'spanish', '4', 'Verbos importantes: ser, estar, haber', '83', 'False', '2022-01-01', '2022-01-15']\n",
      "['David', 'Chen', 'spanish', '4', 'Verbos importantes: ser, estar, haber', '61', 'False', '2023-01-01', '2023-01-01']\n",
      "['David', 'Chen', 'spanish', '4', 'Verbos importantes: ser, estar, haber', 'Pass', 'False', '2023-01-01', '2023-01-01']\n",
      "['William', 'Chen', 'spanish', '4', 'Verbos importantes: ser, estar, haber', '87', 'False', '2022-01-01', '2022-01-15']\n",
      "['Rafferty', 'Russell', 'spanish', '4', 'Verbos importantes: ser, estar, haber', '71', 'False', '2022-01-01', '2022-01-15']\n",
      "['Jason', 'Ramirez', 'spanish', '4', 'Verbos importantes: ser, estar, haber', '11', 'False', '2022-01-01', '2022-01-15']\n",
      "['Fred', 'Fernando', 'spanish', '4', 'Verbos importantes: ser, estar, haber', '90', 'False', '2022-01-01', '2022-01-01']\n",
      "['杨作亮', 'AlexYang', 'spanish', '4', 'Verbos importantes: ser, estar, haber', '76', 'False', '2022-01-01', '2022-01-01']\n",
      "[]\n"
     ]
    }
   ],
   "source": [
    "\"\"\"\n",
    "Problem 1b: Try to load spanish.csv from the data folder using the Python csv module.\n",
    "You will probably run into an error. Figure out what changes need to be made to your code\n",
    "to successfully handle the error and load data from spanish.csv.\n",
    "\"\"\"\n",
    "\n",
    "# Your code here\n",
    "import csv\n",
    "\n",
    "with open('data/spanish.csv', 'r') as csv_file:\n",
    "        csv_reader = csv.reader(csv_file)\n",
    "\n",
    "        for line in csv_reader:\n",
    "            if line == ['ERROR', 'ERROR', 'ERROR', 'ERROR', 'ERROR', 'ERROR', 'ERROR', 'ERROR', 'ERROR']:\n",
    "                continue\n",
    "            # if len(line) > 9:\n",
    "            #     line.remove('Verbos importantes: ser')\n",
    "            #     line.remove(' estar')\n",
    "            #     line.remove(' haber')\n",
    "            #     line.insert(4,'Verbos importantes: ser, estar, haber')\n",
    "            print(line)"
   ]
  },
  {
   "cell_type": "code",
   "execution_count": 92,
   "metadata": {
    "scrolled": true
   },
   "outputs": [
    {
     "name": "stdout",
     "output_type": "stream",
     "text": [
      "       FIRST      LAST    SUBJECT ASSIGNMENT_NO  \\\n",
      "0       Bill   Edwards  chemistry             1   \n",
      "1       Bill   Edwards  chemistry             1   \n",
      "2      David      Chen  chemistry             1   \n",
      "3      David      Chen  chemistry             1   \n",
      "4    William      Chen  chemistry             1   \n",
      "..       ...       ...        ...           ...   \n",
      "33   William      Chen    spanish             4   \n",
      "34  Rafferty   Russell    spanish             4   \n",
      "35     Jason   Ramirez    spanish             4   \n",
      "36      Fred  Fernando    spanish             4   \n",
      "37       杨作亮  AlexYang    spanish             4   \n",
      "\n",
      "                          ASSIGNMENT_DESC GRADE MAKEUP    DATE_DUE DATE_SUBMIT  \n",
      "0                              ATMC NMBRS     1  False  2023-01-01  2023-01-15  \n",
      "1                              ATMC NMBRS    13   True  2023-01-01  2023-01-16  \n",
      "2                              ATMC NMBRS    68  False  2022-01-01  2022-01-01  \n",
      "3                              ATMC NMBRS    62   True  2022-01-01  2022-01-15  \n",
      "4                              ATMC NMBRS    65  False  2022-01-01  2022-01-01  \n",
      "..                                    ...   ...    ...         ...         ...  \n",
      "33  Verbos importantes: ser, estar, haber    87  False  2022-01-01  2022-01-15  \n",
      "34  Verbos importantes: ser, estar, haber    71  False  2022-01-01  2022-01-15  \n",
      "35  Verbos importantes: ser, estar, haber    11  False  2022-01-01  2022-01-15  \n",
      "36  Verbos importantes: ser, estar, haber    90  False  2022-01-01  2022-01-01  \n",
      "37  Verbos importantes: ser, estar, haber    76  False  2022-01-01  2022-01-01  \n",
      "\n",
      "[98 rows x 9 columns]\n"
     ]
    }
   ],
   "source": [
    "\"\"\"\n",
    "Problem 2: Now load all 3 CSVs into a pandas dataframe. Handle any errors you encounter.\n",
    "\"\"\"\n",
    "\n",
    "import pandas as pd\n",
    "\n",
    "# Your code here\n",
    "\n",
    "csv_files = ['data/chemistry.csv', 'data/math.csv', 'data/spanish.csv' ]\n",
    "# csv_files = ['data/chemistry.csv', 'data/math.csv']\n",
    "combined_df = pd.DataFrame()\n",
    "\n",
    "for csv_file in csv_files:\n",
    "    df = pd.read_csv(csv_file)\n",
    "    combined_df = pd.concat([combined_df, df])\n",
    "print(combined_df)\n",
    "    "
   ]
  },
  {
   "cell_type": "code",
   "execution_count": 100,
   "metadata": {},
   "outputs": [
    {
     "name": "stdout",
     "output_type": "stream",
     "text": [
      "       FIRST      LAST    SUBJECT ASSIGNMENT_NO    ASSIGNMENT_DESC GRADE  \\\n",
      "0       Bill   Edwards  chemistry             1         ATMC NMBRS     1   \n",
      "1       Bill   Edwards  chemistry             1         ATMC NMBRS    13   \n",
      "2      David      Chen  chemistry             1         ATMC NMBRS    68   \n",
      "3      David      Chen  chemistry             1         ATMC NMBRS    62   \n",
      "4    William      Chen  chemistry             1         ATMC NMBRS    65   \n",
      "5    William      Chen  chemistry             1         ATMC NMBRS    62   \n",
      "6   Rafferty   Russell  chemistry             1         ATMC NMBRS    98   \n",
      "7   Rafferty   Russell  chemistry             1         ATMC NMBRS    90   \n",
      "8      Jason   Ramirez  chemistry             1         ATMC NMBRS    43   \n",
      "9      Jason   Ramirez  chemistry             1         ATMC NMBRS    13   \n",
      "10      Fred  Fernando  chemistry             1         ATMC NMBRS    97   \n",
      "11      Fred  Fernando  chemistry             1         ATMC NMBRS    91   \n",
      "12       杨作亮  AlexYang  chemistry             1         ATMC NMBRS    58   \n",
      "13       杨作亮  AlexYang  chemistry             1         ATMC NMBRS     0   \n",
      "14      Bill   Edwards  chemistry             2  PLYMER & ALDEHYDE    34   \n",
      "15     David      Chen  chemistry             2  PLYMER & ALDEHYDE    64   \n",
      "16   William      Chen  chemistry             2  PLYMER & ALDEHYDE    67   \n",
      "17  Rafferty   Russell  chemistry             2  PLYMER & ALDEHYDE    98   \n",
      "18     Jason   Ramirez  chemistry             2  PLYMER & ALDEHYDE    12   \n",
      "19      Fred  Fernando  chemistry             2  PLYMER & ALDEHYDE    97   \n",
      "\n",
      "   MAKEUP    DATE_DUE DATE_SUBMIT  \n",
      "0   False  2023-01-01  2023-01-15  \n",
      "1    True  2023-01-01  2023-01-16  \n",
      "2   False  2022-01-01  2022-01-01  \n",
      "3    True  2022-01-01  2022-01-15  \n",
      "4   False  2022-01-01  2022-01-01  \n",
      "5    True  2022-01-01  2022-01-15  \n",
      "6   False  2022-01-01  2022-01-01  \n",
      "7    True  2022-01-01  2022-01-15  \n",
      "8   False  2023-01-01  2023-01-01  \n",
      "9    True  2023-01-01  2023-01-15  \n",
      "10  False  2022-01-01  2022-01-01  \n",
      "11   True  2022-01-01  2022-01-15  \n",
      "12  False  2023-01-01  2023-01-01  \n",
      "13   True  2023-01-01  2023-01-02  \n",
      "14  False  2023-01-01  2023-01-01  \n",
      "15  False  2023-01-01  2023-01-01  \n",
      "16  False  2022-01-01  2022-01-15  \n",
      "17  False  2022-01-01  2022-01-15  \n",
      "18  False  2023-01-01  2023-01-15  \n",
      "19  False  2022-01-01  2022-01-01  \n"
     ]
    }
   ],
   "source": [
    "\"\"\"\n",
    "Problem 3: Take an initial look at the data using pandas methods head or describe.\n",
    "Do you notice any strangeness in any of the data?\n",
    "\"\"\"\n",
    "\n",
    "# Your code here\n",
    "# df = pd.read_csv('data/chemistry.csv')\n",
    "\n",
    "print(combined_df.head(20))\n",
    "\n",
    "# print(combined_df.describe())\n",
    "# print(df['SUBJECT'])\n",
    "\n"
   ]
  },
  {
   "cell_type": "code",
   "execution_count": 106,
   "metadata": {},
   "outputs": [
    {
     "data": {
      "text/plain": [
       "array(['chemistry'], dtype=object)"
      ]
     },
     "execution_count": 106,
     "metadata": {},
     "output_type": "execute_result"
    }
   ],
   "source": [
    "# df = pd.read_csv('data/math.csv')\n",
    "df.SUBJECT.unique()\n"
   ]
  },
  {
   "cell_type": "code",
   "execution_count": 105,
   "metadata": {},
   "outputs": [
    {
     "name": "stdout",
     "output_type": "stream",
     "text": [
      "{'Ramirez', 'Fernando', 'Edwards', 'AlexYang', 'Russell', 'Chen'}\n"
     ]
    }
   ],
   "source": [
    "\"\"\"\n",
    "Problem 4: Calculate the students' average grade per class (arithmetic mean) and add it\n",
    "as a column to the dataframe. Correct any mistakes you come across.\n",
    "\"\"\"\n",
    "import pandas as pd\n",
    "# Your code here\n",
    "student_average_df = pd.DataFrame()\n",
    "df = pd.read_csv('data/chemistry.csv')\n",
    "last_name = set(df['LAST'])\n",
    "\n",
    "print(last_name)\n",
    "\n",
    "\n",
    "\n"
   ]
  },
  {
   "cell_type": "code",
   "execution_count": 124,
   "metadata": {},
   "outputs": [
    {
     "data": {
      "text/plain": [
       "Series([], dtype: float64)"
      ]
     },
     "execution_count": 124,
     "metadata": {},
     "output_type": "execute_result"
    }
   ],
   "source": [
    "# combined_df.mean(axis=0, numeric_only=True)\n",
    "# grades = combined_df.loc(\"GRADE\")\n",
    "grades = combined_df[['GRADE']].mean(numeric_only=True)\n",
    "grades\n"
   ]
  },
  {
   "cell_type": "code",
   "execution_count": 125,
   "metadata": {},
   "outputs": [
    {
     "data": {
      "text/plain": [
       "'\\nProblem 5: Using the average grades you have calculated for each student in each class,\\nassign them a letter grade and add it as a column on the dataframe.\\n'"
      ]
     },
     "execution_count": 125,
     "metadata": {},
     "output_type": "execute_result"
    }
   ],
   "source": [
    "\"\"\"\n",
    "Problem 5: Using the average grades you have calculated for each student in each class,\n",
    "assign them a letter grade and add it as a column on the dataframe.\n",
    "\"\"\"\n",
    "\n",
    "# Your code here"
   ]
  },
  {
   "cell_type": "code",
   "execution_count": 126,
   "metadata": {},
   "outputs": [
    {
     "data": {
      "text/plain": [
       "'\\nProblem 6: Makeups are occasionally allowed on assignments at this school, which means that\\nif a student makes a better grade on their makeup than the original submission for a given assignment, the original grade\\nis dropped and only the makeup grade is counted, otherwise only the original grade is counted.\\nCreate a line graph of the average grade on each assignment in the Spanish class\\nby due date keeping only the best grade per student if there are any makeups.\\n'"
      ]
     },
     "execution_count": 126,
     "metadata": {},
     "output_type": "execute_result"
    }
   ],
   "source": [
    "\"\"\"\n",
    "Problem 6: Makeups are occasionally allowed on assignments at this school, which means that\n",
    "if a student makes a better grade on their makeup than the original submission for a given assignment, the original grade\n",
    "is dropped and only the makeup grade is counted, otherwise only the original grade is counted.\n",
    "Create a line graph of the average grade on each assignment in the Spanish class\n",
    "by due date keeping only the best grade per student if there are any makeups.\n",
    "\"\"\"\n",
    "\n",
    "# Your code here"
   ]
  },
  {
   "cell_type": "code",
   "execution_count": null,
   "metadata": {},
   "outputs": [],
   "source": []
  }
 ],
 "metadata": {
  "kernelspec": {
   "display_name": "Python 3 (ipykernel)",
   "language": "python",
   "name": "python3"
  },
  "language_info": {
   "codemirror_mode": {
    "name": "ipython",
    "version": 3
   },
   "file_extension": ".py",
   "mimetype": "text/x-python",
   "name": "python",
   "nbconvert_exporter": "python",
   "pygments_lexer": "ipython3",
   "version": "3.11.2"
  }
 },
 "nbformat": 4,
 "nbformat_minor": 4
}
