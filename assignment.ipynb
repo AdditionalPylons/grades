{
 "cells": [
  {
   "cell_type": "markdown",
   "metadata": {},
   "source": [
    "# In this assignment, you will be loading some CSV data, doing some data exploration and data cleaning,\n",
    "# and generating some useful output. First you will need to load data from the CSVs into a usable state.\n",
    "# You will find all the files referenced here in the /data project subdirectory."
   ]
  },
  {
   "cell_type": "code",
   "execution_count": null,
   "metadata": {},
   "outputs": [],
   "source": [
    "\"\"\"\n",
    "Problem 1a: Load chemistry.csv and math.csv from the data folder using the Python csv module.\n",
    "\"\"\"\n",
    "\n",
    "# Your code here"
   ]
  },
  {
   "cell_type": "code",
   "execution_count": 2,
   "metadata": {},
   "outputs": [
    {
     "data": {
      "text/plain": [
       "'Problem 1b: Try to load spanish.csv from the data folder using csv_reader.\\nYou will probably run into an error. Figure out what changes need to be made to your code'"
      ]
     },
     "execution_count": 2,
     "metadata": {},
     "output_type": "execute_result"
    }
   ],
   "source": [
    "\"\"\"\n",
    "Problem 1b: Try to load spanish.csv from the data folder using the Python csv module.\n",
    "You will probably run into an error. Figure out what changes need to be made to your code\n",
    "to successfully handle the error and load data from spanish.csv.\n",
    "\"\"\"\n",
    "\n",
    "# Your code here"
   ]
  },
  {
   "cell_type": "code",
   "execution_count": 3,
   "metadata": {},
   "outputs": [],
   "source": [
    "\"\"\"\n",
    "Problem 2: Now load all 3 CSVs into a pandas dataframe. Handle any errors you encounter.\n",
    "\"\"\"\n",
    "\n",
    "import pandas as pd\n",
    "\n",
    "# Your code here"
   ]
  },
  {
   "cell_type": "code",
   "execution_count": null,
   "metadata": {},
   "outputs": [],
   "source": [
    "\"\"\"\n",
    "Problem 3: Take an initial look at the data using pandas methods head or describe.\n",
    "Do you notice any strangeness in any of the data?\n",
    "\"\"\"\n",
    "\n",
    "# Your code here"
   ]
  },
  {
   "cell_type": "code",
   "execution_count": null,
   "metadata": {},
   "outputs": [],
   "source": [
    "\"\"\"\n",
    "Problem 4: Calculate the students' average grade per class (arithmetic mean) and add it\n",
    "as a column to the dataframe. Correct any mistakes you come across.\n",
    "\"\"\"\n",
    "\n",
    "# Your code here"
   ]
  },
  {
   "cell_type": "code",
   "execution_count": null,
   "metadata": {},
   "outputs": [],
   "source": [
    "\"\"\"\n",
    "Problem 5: Using the average grades you have calculated for each student in each class,\n",
    "assign them a letter grade and add it as a column on the dataframe.\n",
    "\"\"\"\n",
    "\n",
    "# Your code here"
   ]
  },
  {
   "cell_type": "code",
   "execution_count": null,
   "metadata": {},
   "outputs": [],
   "source": [
    "\"\"\"\n",
    "Problem 6: Makeups are occasionally allowed on assignments at this school, which means that\n",
    "if a student makes a better grade on their makeup than the original submission for a given assignment, the original grade\n",
    "is dropped and only the makeup grade is counted, otherwise only the original grade is counted.\n",
    "Create a line graph of the average grade on each assignment in the Spanish class\n",
    "by due date keeping only the best grade per student if there are any makeups.\n",
    "\"\"\"\n",
    "\n",
    "# Your code here"
   ]
  }
 ],
 "metadata": {
  "kernelspec": {
   "display_name": "grades",
   "language": "python",
   "name": "python3"
  },
  "language_info": {
   "codemirror_mode": {
    "name": "ipython",
    "version": 3
   },
   "file_extension": ".py",
   "mimetype": "text/x-python",
   "name": "python",
   "nbconvert_exporter": "python",
   "pygments_lexer": "ipython3",
   "version": "3.11.5"
  },
  "orig_nbformat": 4
 },
 "nbformat": 4,
 "nbformat_minor": 2
}
